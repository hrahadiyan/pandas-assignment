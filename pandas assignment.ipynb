{
 "cells": [
  {
   "cell_type": "markdown",
   "id": "disturbed-venue",
   "metadata": {},
   "source": [
    "# Hello world"
   ]
  },
  {
   "cell_type": "code",
   "execution_count": null,
   "id": "greek-questionnaire",
   "metadata": {},
   "outputs": [],
   "source": []
  },
  {
   "cell_type": "code",
   "execution_count": 1,
   "id": "outer-salon",
   "metadata": {},
   "outputs": [
    {
     "name": "stdout",
     "output_type": "stream",
     "text": [
      " Volume in drive C has no label.\n",
      " Volume Serial Number is ECFB-E4F5\n",
      "\n",
      " Directory of C:\\Users\\My Computer\\Documents\\GitHub\\pandas-assignment\n",
      "\n",
      "02/27/2021  11:07 AM    <DIR>          .\n",
      "02/27/2021  11:07 AM    <DIR>          ..\n",
      "02/27/2021  10:18 AM         1,449,183 .gitignore\n",
      "02/27/2021  10:26 AM    <DIR>          .ipynb_checkpoints\n",
      "02/27/2021  10:15 AM    <DIR>          env\n",
      "02/27/2021  10:00 AM    <DIR>          pandas\n",
      "02/27/2021  11:07 AM               995 pandas assignment.ipynb\n",
      "               2 File(s)      1,450,178 bytes\n",
      "               5 Dir(s)  22,446,821,376 bytes free\n"
     ]
    }
   ],
   "source": [
    "!dir"
   ]
  },
  {
   "cell_type": "code",
   "execution_count": null,
   "id": "measured-decline",
   "metadata": {},
   "outputs": [],
   "source": []
  },
  {
   "cell_type": "code",
   "execution_count": null,
   "id": "headed-idaho",
   "metadata": {},
   "outputs": [],
   "source": []
  }
 ],
 "metadata": {
  "kernelspec": {
   "display_name": "Python 3",
   "language": "python",
   "name": "python3"
  },
  "language_info": {
   "codemirror_mode": {
    "name": "ipython",
    "version": 3
   },
   "file_extension": ".py",
   "mimetype": "text/x-python",
   "name": "python",
   "nbconvert_exporter": "python",
   "pygments_lexer": "ipython3",
   "version": "3.9.1"
  }
 },
 "nbformat": 4,
 "nbformat_minor": 5
}
